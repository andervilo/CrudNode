{
  "cells": [
    {
      "cell_type": "markdown",
      "metadata": {
        "id": "view-in-github",
        "colab_type": "text"
      },
      "source": [
        "<a href=\"https://colab.research.google.com/github/andervilo/CrudNode/blob/master/nalise-futebol.ipynb\" target=\"_parent\"><img src=\"https://colab.research.google.com/assets/colab-badge.svg\" alt=\"Open In Colab\"/></a>"
      ]
    },
    {
      "cell_type": "code",
      "source": [
        "from scipy.stats import poisson\n",
        "import pandas as pd\n",
        "\n",
        "def get_prob(mandante_media, mandante_gol, visitante_media, visitante_gol):\n",
        "    X = [0, 1, 2, 3, 4]\n",
        "    poisson_pd = [poisson.pmf(X, mandante_media),poisson.pmf(X, visitante_media),]\n",
        "    return round(poisson_pd[0][mandante_gol]*poisson_pd[1][visitante_gol],4)\n",
        "\n",
        "def calcula_probabilidade_VED(mandante, visitante):\n",
        "    X = [0, 1, 2, 3, 4]\n",
        "    res = []\n",
        "\n",
        "    empate = 0\n",
        "    vMandante = 0\n",
        "    vVisitante = 0\n",
        "\n",
        "    for i in range(len(X)):\n",
        "        for j in range(len(X)):\n",
        "            if i == j :\n",
        "                #print(str(i)+'x'+str(j)+': '+str(get_prob(mandante,i,visitante,j)))\n",
        "                empate += get_prob(mandante,i,visitante,j)\n",
        "                res.append({\n",
        "                    'placar': str(i)+'x'+str(j),\n",
        "                    'prob':get_prob(mandante,i,visitante,j)\n",
        "                })\n",
        "            if i > j :\n",
        "                vMandante += get_prob(mandante,i,visitante,j)\n",
        "                res.append({\n",
        "                    'placar': str(i)+'x'+str(j),\n",
        "                    'prob':get_prob(mandante,i,visitante,j)\n",
        "                })\n",
        "                #print(str(i)+'x'+str(j)+': '+str(get_prob(mandante,i,visitante,j)))\n",
        "            if i < j :\n",
        "                vVisitante += get_prob(mandante,i,visitante,j)\n",
        "                res.append({\n",
        "                    'placar': str(i)+'x'+str(j),\n",
        "                    'prob':get_prob(mandante,i,visitante,j)\n",
        "                })\n",
        "                #print(str(i)+'x'+str(j)+': '+str(get_prob(mandante,i,visitante,j)))\n",
        "\n",
        "    df = pd.DataFrame(res)\n",
        "    df['prob'] = df['prob']*100\n",
        "    dfp = df.sort_values('prob', ascending=False,ignore_index=True)\n",
        "    print(dfp.head(10))\n",
        "    return {'mandante': round(vMandante*100,4), 'empate': round(empate*100,4), 'vVisitante': round(vVisitante*100,4)}\n",
        "\n",
        "lmbda1 = 0.95\n",
        "lmbda2 = 1.09\n",
        "\n",
        "print('Defensa x River')\n",
        "print(calcula_probabilidade_VED(2,1.86))\n",
        "\n",
        "#print('Paganese x Monopoli')\n",
        "#print(calcula_probabilidade_VED(1.2,1.8))\n",
        "\n",
        "#print('Piacenza x AlbinoLeffe')\n",
        "#print(calcula_probabilidade_VED(0.8,1.3))"
      ],
      "metadata": {
        "id": "S_9RM-W-2KtL",
        "colab": {
          "base_uri": "https://localhost:8080/"
        },
        "outputId": "cf12db4d-99c0-495d-9af2-f58fb85daa86"
      },
      "execution_count": 2,
      "outputs": [
        {
          "output_type": "stream",
          "name": "stdout",
          "text": [
            "Defensa x River\n",
            "  placar  prob\n",
            "0    1x1  7.84\n",
            "1    2x1  7.84\n",
            "2    2x2  7.29\n",
            "3    1x2  7.29\n",
            "4    3x1  5.22\n",
            "5    3x2  4.86\n",
            "6    2x3  4.52\n",
            "7    1x3  4.52\n",
            "8    1x0  4.21\n",
            "9    2x0  4.21\n",
            "{'mandante': 37.1, 'empate': 20.95, 'vVisitante': 32.8}\n"
          ]
        }
      ]
    }
  ],
  "metadata": {
    "colab": {
      "collapsed_sections": [],
      "name": "Cópia de Olá, este é o Colaboratory",
      "toc_visible": true,
      "provenance": [],
      "include_colab_link": true
    },
    "kernelspec": {
      "display_name": "Python 3",
      "name": "python3"
    }
  },
  "nbformat": 4,
  "nbformat_minor": 0
}